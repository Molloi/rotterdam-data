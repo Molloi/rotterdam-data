{
 "metadata": {
  "language_info": {
   "codemirror_mode": {
    "name": "ipython",
    "version": 3
   },
   "file_extension": ".py",
   "mimetype": "text/x-python",
   "name": "python",
   "nbconvert_exporter": "python",
   "pygments_lexer": "ipython3",
   "version": "3.9.2"
  },
  "orig_nbformat": 2,
  "kernelspec": {
   "name": "python392jvsc74a57bd0a4ad7d11f550489742d77d8dbea0b3c8c4b5eb3f2957da81bd82ddcdfa462162",
   "display_name": "Python 3.9.2 64-bit"
  },
  "metadata": {
   "interpreter": {
    "hash": "a4ad7d11f550489742d77d8dbea0b3c8c4b5eb3f2957da81bd82ddcdfa462162"
   }
  }
 },
 "nbformat": 4,
 "nbformat_minor": 2,
 "cells": [
  {
   "cell_type": "code",
   "execution_count": 31,
   "metadata": {},
   "outputs": [],
   "source": [
    "import numpy as np\n",
    "import pandas as pd"
   ]
  },
  {
   "cell_type": "code",
   "execution_count": 32,
   "metadata": {},
   "outputs": [],
   "source": [
    "#file_name = \"C:\\Noopur Backup\\School\\Molloi\\reference_voxel.csv\"\n",
    "#file_name_output = \"C:\\Noopur Backup\\School\\Molloi\\reference_voxel_downsample.csv\"\n",
    "\n",
    "df = pd.read_csv(r\"C:\\Noopur Backup\\School\\Molloi\\reference_voxel.csv\")"
   ]
  },
  {
   "cell_type": "code",
   "execution_count": 33,
   "metadata": {},
   "outputs": [],
   "source": [
    "df.drop_duplicates(subset=['X','Y','Z'], inplace=True)\n",
    "df.to_csv(\"C:\\\\Noopur Backup\\\\School\\\\Molloi\\\\reference_voxel_downsample.csv\", index=False)"
   ]
  },
  {
   "cell_type": "code",
   "execution_count": null,
   "metadata": {},
   "outputs": [],
   "source": []
  }
 ]
}