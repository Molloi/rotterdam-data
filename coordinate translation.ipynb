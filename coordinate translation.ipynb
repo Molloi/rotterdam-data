{
 "cells": [
  {
   "cell_type": "code",
   "execution_count": 46,
   "metadata": {},
   "outputs": [],
   "source": [
    "import pandas as pd\n",
    "import os\n",
    "base_address = r\"\\\\neptune.radsci.uci.edu\\NeptuneData\\Datasets\\Rotterdam\"\n",
    "address = r\"\\training\\dataset00\\vessel0\\reference.txt\"\n"
   ]
  },
  {
   "cell_type": "code",
   "execution_count": 18,
   "metadata": {},
   "outputs": [
    {
     "data": {
      "text/html": [
       "<div>\n",
       "<style scoped>\n",
       "    .dataframe tbody tr th:only-of-type {\n",
       "        vertical-align: middle;\n",
       "    }\n",
       "\n",
       "    .dataframe tbody tr th {\n",
       "        vertical-align: top;\n",
       "    }\n",
       "\n",
       "    .dataframe thead th {\n",
       "        text-align: right;\n",
       "    }\n",
       "</style>\n",
       "<table border=\"1\" class=\"dataframe\">\n",
       "  <thead>\n",
       "    <tr style=\"text-align: right;\">\n",
       "      <th></th>\n",
       "      <th>X</th>\n",
       "      <th>Y</th>\n",
       "      <th>Z</th>\n",
       "      <th>a</th>\n",
       "      <th>b</th>\n",
       "    </tr>\n",
       "  </thead>\n",
       "  <tbody>\n",
       "    <tr>\n",
       "      <th>0</th>\n",
       "      <td>68.6513</td>\n",
       "      <td>57.7580</td>\n",
       "      <td>75.2850</td>\n",
       "      <td>2.544800</td>\n",
       "      <td>0.259307</td>\n",
       "    </tr>\n",
       "    <tr>\n",
       "      <th>1</th>\n",
       "      <td>68.6363</td>\n",
       "      <td>57.7321</td>\n",
       "      <td>75.2869</td>\n",
       "      <td>2.544480</td>\n",
       "      <td>0.258062</td>\n",
       "    </tr>\n",
       "    <tr>\n",
       "      <th>2</th>\n",
       "      <td>68.6213</td>\n",
       "      <td>57.7062</td>\n",
       "      <td>75.2889</td>\n",
       "      <td>2.544160</td>\n",
       "      <td>0.257561</td>\n",
       "    </tr>\n",
       "    <tr>\n",
       "      <th>3</th>\n",
       "      <td>68.6064</td>\n",
       "      <td>57.6802</td>\n",
       "      <td>75.2908</td>\n",
       "      <td>2.543840</td>\n",
       "      <td>0.257103</td>\n",
       "    </tr>\n",
       "    <tr>\n",
       "      <th>4</th>\n",
       "      <td>68.5914</td>\n",
       "      <td>57.6543</td>\n",
       "      <td>75.2928</td>\n",
       "      <td>2.543520</td>\n",
       "      <td>0.256715</td>\n",
       "    </tr>\n",
       "    <tr>\n",
       "      <th>...</th>\n",
       "      <td>...</td>\n",
       "      <td>...</td>\n",
       "      <td>...</td>\n",
       "      <td>...</td>\n",
       "      <td>...</td>\n",
       "    </tr>\n",
       "    <tr>\n",
       "      <th>7349</th>\n",
       "      <td>155.5690</td>\n",
       "      <td>54.0919</td>\n",
       "      <td>34.2338</td>\n",
       "      <td>0.828176</td>\n",
       "      <td>0.624076</td>\n",
       "    </tr>\n",
       "    <tr>\n",
       "      <th>7350</th>\n",
       "      <td>155.5650</td>\n",
       "      <td>54.0630</td>\n",
       "      <td>34.2269</td>\n",
       "      <td>0.826917</td>\n",
       "      <td>0.652115</td>\n",
       "    </tr>\n",
       "    <tr>\n",
       "      <th>7351</th>\n",
       "      <td>155.5610</td>\n",
       "      <td>54.0342</td>\n",
       "      <td>34.2196</td>\n",
       "      <td>0.822742</td>\n",
       "      <td>0.680152</td>\n",
       "    </tr>\n",
       "    <tr>\n",
       "      <th>7352</th>\n",
       "      <td>155.5570</td>\n",
       "      <td>54.0054</td>\n",
       "      <td>34.2123</td>\n",
       "      <td>0.818567</td>\n",
       "      <td>0.708350</td>\n",
       "    </tr>\n",
       "    <tr>\n",
       "      <th>7353</th>\n",
       "      <td>155.5550</td>\n",
       "      <td>53.9931</td>\n",
       "      <td>34.2092</td>\n",
       "      <td>0.816781</td>\n",
       "      <td>0.720459</td>\n",
       "    </tr>\n",
       "  </tbody>\n",
       "</table>\n",
       "<p>7354 rows × 5 columns</p>\n",
       "</div>"
      ],
      "text/plain": [
       "             X        Y        Z         a         b\n",
       "0      68.6513  57.7580  75.2850  2.544800  0.259307\n",
       "1      68.6363  57.7321  75.2869  2.544480  0.258062\n",
       "2      68.6213  57.7062  75.2889  2.544160  0.257561\n",
       "3      68.6064  57.6802  75.2908  2.543840  0.257103\n",
       "4      68.5914  57.6543  75.2928  2.543520  0.256715\n",
       "...        ...      ...      ...       ...       ...\n",
       "7349  155.5690  54.0919  34.2338  0.828176  0.624076\n",
       "7350  155.5650  54.0630  34.2269  0.826917  0.652115\n",
       "7351  155.5610  54.0342  34.2196  0.822742  0.680152\n",
       "7352  155.5570  54.0054  34.2123  0.818567  0.708350\n",
       "7353  155.5550  53.9931  34.2092  0.816781  0.720459\n",
       "\n",
       "[7354 rows x 5 columns]"
      ]
     },
     "execution_count": 18,
     "metadata": {},
     "output_type": "execute_result"
    }
   ],
   "source": [
    "data = pd.read_csv(base_address+address, sep=\" \",names = [\"X\", \"Y\",\"Z\", \"a\",\"b\"])\n",
    "data\n"
   ]
  },
  {
   "cell_type": "code",
   "execution_count": 6,
   "metadata": {},
   "outputs": [],
   "source": [
    "import SimpleITK as sitk\n",
    "import numpy as np\n",
    "def load_itk(filename):\n",
    "    # Reads the image using SimpleITK\n",
    "    itkimage = sitk.ReadImage(filename)\n",
    "\n",
    "    # Convert the image to a  numpy array first and then shuffle the dimensions to get axis in the order z,y,x\n",
    "    ct_scan = sitk.GetArrayFromImage(itkimage)\n",
    "\n",
    "    # Read the origin of the ct_scan, will be used to convert the coordinates from world to voxel and vice versa.\n",
    "    origin = np.array(list(reversed(itkimage.GetOrigin())))\n",
    "\n",
    "    # Read the spacing along each dimension\n",
    "    spacing = np.array(list(reversed(itkimage.GetSpacing())))\n",
    "\n",
    "    return ct_scan, origin, spacing"
   ]
  },
  {
   "cell_type": "code",
   "execution_count": 21,
   "metadata": {},
   "outputs": [
    {
     "data": {
      "text/plain": [
       "array([0.40000001, 0.36328101, 0.36328101])"
      ]
     },
     "execution_count": 21,
     "metadata": {},
     "output_type": "execute_result"
    }
   ],
   "source": [
    "ct_scan, origin, spacing = load_itk(r\"\\\\neptune.radsci.uci.edu\\NeptuneData\\Datasets\\Rotterdam\\training\\dataset00\\image00.mhd\")\n",
    "spacing"
   ]
  },
  {
   "cell_type": "code",
   "execution_count": 53,
   "metadata": {},
   "outputs": [],
   "source": [
    "def listdir_nohidden(path):\n",
    "    myList = []\n",
    "    for f in os.listdir(path):\n",
    "        if not f.startswith('.'):\n",
    "            myList.append(f)\n",
    "    return myList      \n",
    "def real_world_to_pixel(address, spacing):\n",
    "    df = pd.read_csv(address + \"\\\\\" + \"reference.txt\",sep=\" \",names = [\"X\", \"Y\",\"Z\", \"a\",\"b\"])\n",
    "    for index, row in df.iterrows():\n",
    "        row[\"X\"] = int(round(row[\"X\"]/spacing[0],0))\n",
    "        row[\"Y\"] = int(round(row[\"Y\"]/spacing[1],0))\n",
    "        row[\"Z\"] = int(round(row[\"Z\"]/spacing[1],0))\n",
    "    df.to_csv(address + \"\\\\\" + \"reference_voxel.csv\")\n",
    "def translate():\n",
    "    base_address = r\"\\\\neptune.radsci.uci.edu\\NeptuneData\\Datasets\\Rotterdam\"\n",
    "    train_test_dire_list = [\"training\"]\n",
    "    # training folder\n",
    "    for data_directory in train_test_dire_list:\n",
    "        first_address = base_address+ \"\\\\\"+ data_directory\n",
    "        # dataSet folder\n",
    "        for dataset in listdir_nohidden(first_address):\n",
    "            second_address = first_address + \"\\\\\" + dataset\n",
    "            # find mhd file and get spacing\n",
    "            for file in listdir_nohidden(second_address):\n",
    "                if file.endswith(\".mhd\"):\n",
    "                    try:\n",
    "                        ct_scan, origin, spacing = load_itk(second_address + \"\\\\\" + file)\n",
    "                        for sub_dir in listdir_nohidden(second_address):\n",
    "                            if (sub_dir in {\"vessel0\", \"vessel1\", \"vessel2\", \"vessel3\"} and \n",
    "                                \"reference.txt\" in listdir_nohidden(second_address + \"\\\\\" + sub_dir)):\n",
    "                                real_world_to_pixel(second_address + \"\\\\\" + sub_dir, spacing)\n",
    "                    except:\n",
    "                        print(\"aa\")\n",
    "\n",
    "                                \n",
    "                "
   ]
  },
  {
   "cell_type": "code",
   "execution_count": 54,
   "metadata": {},
   "outputs": [
    {
     "name": "stdout",
     "output_type": "stream",
     "text": [
      "aa\n",
      "aa\n",
      "aa\n",
      "aa\n",
      "aa\n",
      "aa\n"
     ]
    }
   ],
   "source": [
    "translate()"
   ]
  },
  {
   "cell_type": "code",
   "execution_count": 40,
   "metadata": {},
   "outputs": [
    {
     "data": {
      "text/plain": [
       "171.3"
      ]
     },
     "execution_count": 40,
     "metadata": {},
     "output_type": "execute_result"
    }
   ],
   "source": []
  },
  {
   "cell_type": "code",
   "execution_count": null,
   "metadata": {},
   "outputs": [],
   "source": []
  }
 ],
 "metadata": {
  "kernelspec": {
   "display_name": "Python 3",
   "language": "python",
   "name": "python3"
  },
  "language_info": {
   "codemirror_mode": {
    "name": "ipython",
    "version": 3
   },
   "file_extension": ".py",
   "mimetype": "text/x-python",
   "name": "python",
   "nbconvert_exporter": "python",
   "pygments_lexer": "ipython3",
   "version": "3.8.3"
  }
 },
 "nbformat": 4,
 "nbformat_minor": 4
}
